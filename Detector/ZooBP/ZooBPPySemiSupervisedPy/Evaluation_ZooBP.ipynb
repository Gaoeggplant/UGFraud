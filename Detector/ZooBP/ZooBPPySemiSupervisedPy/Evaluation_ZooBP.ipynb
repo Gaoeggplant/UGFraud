{
 "cells": [
  {
   "cell_type": "code",
   "execution_count": 6,
   "metadata": {
    "collapsed": false
   },
   "outputs": [
    {
     "name": "stdout",
     "output_type": "stream",
     "text": [
      "f1_score\n",
      "0.573086892821\n",
      "precision\n",
      "0.616562929432\n",
      "recall\n",
      "0.535338293094\n",
      "accuracy\n",
      "0.858149477298\n",
      "auc\n",
      "0.749813316529\n"
     ]
    }
   ],
   "source": [
    "import numpy as np\n",
    "import csv\n",
    "from sklearn.metrics import f1_score\n",
    "from sklearn.metrics import precision_score\n",
    "from sklearn.metrics import recall_score\n",
    "from sklearn.metrics import accuracy_score\n",
    "from sklearn import metrics\n",
    "\n",
    "prefix= '/Users/anahita/datasets/'\n",
    "\n",
    "gt_labels = np.zeros(160225)\n",
    "i = 0\n",
    "with open(prefix + 'user_labels.csv', 'r') as user_csvfile:\n",
    "    reader = csv.reader(user_csvfile)\n",
    "    for row in reader:\n",
    "        gt_labels[i] = float(row[0])\n",
    "        i = i + 1\n",
    "\n",
    "#1:spammer 2:benign\n",
    "pl_labels = np.zeros(160225)\n",
    "pl_beliefs = np.zeros(160225)\n",
    "i = 0\n",
    "#userFinalBeliefs\n",
    "with open(prefix + 'userFinalBeliefsSemiSupervised.csv', 'r') as user_csvfile:\n",
    "    reader = csv.reader(user_csvfile)\n",
    "    for row in reader:\n",
    "        if(float(row[1]) > float(row[2])):\n",
    "            pl_labels[i] = 1\n",
    "            pl_beliefs[i] = float(row[1])\n",
    "        i = i + 1\n",
    "        \n",
    "f1_score = f1_score(gt_labels, pl_labels)\n",
    "precision = precision_score(gt_labels, pl_labels)\n",
    "recall = recall_score(gt_labels, pl_labels)\n",
    "accuracy = accuracy_score(gt_labels, pl_labels)\n",
    "fpr, tpr, thresholds = metrics.roc_curve(gt_labels, pl_beliefs)\n",
    "auc = metrics.auc(fpr, tpr)\n",
    "\n",
    "print('f1_score')\n",
    "print(f1_score)\n",
    "print('precision')\n",
    "print(precision)\n",
    "print('recall')\n",
    "print(recall)\n",
    "print('accuracy')\n",
    "print(accuracy)\n",
    "print('auc')\n",
    "print(auc)"
   ]
  },
  {
   "cell_type": "code",
   "execution_count": null,
   "metadata": {
    "collapsed": true
   },
   "outputs": [],
   "source": []
  }
 ],
 "metadata": {
  "kernelspec": {
   "display_name": "Python 3",
   "language": "python",
   "name": "python3"
  },
  "language_info": {
   "codemirror_mode": {
    "name": "ipython",
    "version": 3
   },
   "file_extension": ".py",
   "mimetype": "text/x-python",
   "name": "python",
   "nbconvert_exporter": "python",
   "pygments_lexer": "ipython3",
   "version": "3.5.1"
  }
 },
 "nbformat": 4,
 "nbformat_minor": 0
}
