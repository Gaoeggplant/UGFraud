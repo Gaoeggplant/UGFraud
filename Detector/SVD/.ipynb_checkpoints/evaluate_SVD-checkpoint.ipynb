{
 "cells": [
  {
   "cell_type": "code",
   "execution_count": 2,
   "metadata": {},
   "outputs": [
    {
     "name": "stdout",
     "output_type": "stream",
     "text": [
      "number of users = 38063\n",
      "number of products = 201\n",
      "number of users = 38063\n",
      "number of users = 38063\n",
      "number of products = 201\n",
      "[ 62.66578014   0.           0.           0.           0.           0.           0.\n",
      "   0.           0.           0.           0.           0.           0.           0.\n",
      "   0.           0.           0.           0.           0.           0.           0.\n",
      "   0.           0.           0.           0.           0.           0.           0.\n",
      "   0.           0.           0.           0.           0.           0.           0.\n",
      "   0.           0.           0.           0.           0.           0.           0.\n",
      "   0.           0.           0.           0.           0.           0.           0.\n",
      "   0.        ]\n",
      "number of positive 7739\n",
      "number of negative 30324\n",
      "number of all users 38063\n",
      "AUC = 0.497467\n"
     ]
    },
    {
     "name": "stderr",
     "output_type": "stream",
     "text": [
      "/Users/Jean/Applications/anaconda3/lib/python3.6/site-packages/sklearn/metrics/classification.py:1135: UndefinedMetricWarning: Precision and F-score are ill-defined and being set to 0.0 in labels with no predicted samples.\n",
      "  'precision', 'predicted', average, warn_for)\n"
     ]
    }
   ],
   "source": [
    "import pickle\n",
    "from math import *\n",
    "\n",
    "import sys\n",
    "sys.path.insert(0, '../Utils')\n",
    "from iohelper import *\n",
    "\n",
    "import numpy as np\n",
    "import copy\n",
    "\n",
    "from SVD import *\n",
    "\n",
    "dataset_name = 'YelpChi'\n",
    "prefix = '../Yelp_Dataset/' + dataset_name + '/'\n",
    "\n",
    "metadata_filename = prefix + 'metadata.gz'\n",
    "user_prior_filename = prefix + 'UserPriorsFromMat.pickle'\n",
    "prod_prior_filename = prefix + 'ProdPriorsFromMat.pickle'\n",
    "review_prior_filename = prefix + 'ReviewPriorsFromMat.pickle'\n",
    "\n",
    "evasion_filename = prefix + 'IncBP/' + 'new_spammer_old_business.pickle'\n",
    "camou_filename = prefix + 'IncBP/' + 'new_spammer_old_business_bias_False.pickle'\n",
    "\n",
    "# read the graph and node priors\n",
    "user_product_graph, _ = read_graph_data(metadata_filename)\n",
    "\n",
    "with open(user_prior_filename, 'rb') as f:\n",
    "    user_priors = pickle.load(f)\n",
    "    \n",
    "with open(prod_prior_filename, 'rb') as f:\n",
    "    prod_priors = pickle.load(f)\n",
    "\n",
    "with open(review_prior_filename, 'rb') as f:\n",
    "    review_priors = pickle.load(f)\n",
    "    \n",
    "for k,v in user_product_graph.items():\n",
    "    \n",
    "    for t in v:\n",
    "        assert (k,t[0]) in review_priors\n",
    "\n",
    "## add edges from evasions and camouflage\n",
    "\n",
    "with open(evasion_filename, 'rb') as f:\n",
    "    evasions = pickle.load(f)\n",
    "    spammer_ids = evasions[0]   \n",
    "    target_ids = evasions[1]\n",
    "    new_edges_evasions = evasions[2]\n",
    "\n",
    "with open(camou_filename, 'rb') as f:\n",
    "    new_edges_camou = pickle.load(f)\n",
    "\n",
    "#merge new edges from evasions and camouflage\n",
    "new_edges = new_edges_evasions + new_edges_camou\n",
    "\n",
    "percent = 0.9 \n",
    "\n",
    "\n",
    "for e in new_edges:\n",
    "    u_id = str(e[0])\n",
    "    p_id = str(e[1])\n",
    "\n",
    "    if u_id in spammer_ids and p_id in target_ids:    #???????? it's a spammer as long as u_id is in spammer_ids?\n",
    "        user_product_graph[u_id].append((p_id, 5, -1, '2018'))  \n",
    "    else:\n",
    "        user_product_graph[u_id].append((p_id, 5, 1, '2018')) \n",
    "print('number of users = %d' % len(user_product_graph))\n",
    "print('number of users = %d' % len(user_priors))\n",
    "print('number of products = %d' % len(prod_priors))  \n",
    "\n",
    "percent = 0.9 \n",
    "    \n",
    "#run SVD on user-product graph\n",
    "model = SVD(user_product_graph, user_priors, prod_priors)\n",
    "svd_output = model.run(percent)\n",
    "\n",
    "#     print(len(svd_output[1,:]))\n",
    "#     print(svd_output)\n",
    "\n",
    "#evaluate the SVD based detection with SVM\n",
    "#result contains the [userid, pred_probas], prediction is the binary pred result, y_ture is the true label vector\n",
    "result, predictions, y_true = model.evaluate_SVD(svd_output, user_product_graph, user_priors, prod_priors, spammer_ids, percent)\n",
    "\n",
    "p, r, _, _ = precision_recall_fscore_support(y_true, predictions)\n",
    "AUC = auc(r,p)\n",
    "\n",
    "        \n",
    "      #  p, r, thresh = precision_recall_curve(y_true, probas_pred[:,0])  \n",
    "       # print (p)\n",
    "       # AUC = auc(r,p)  #auc calculated from probas_pred\n",
    "print('AUC = %f' % AUC)\n",
    "dataset_name = 'YelpChi'\n",
    "prefix = '../Yelp_Dataset/' + dataset_name + '/'\n",
    "filename = prefix + 'test_results.pickle'\n",
    "with open(filename, 'wb') as f:\n",
    "    pickle.dump((result, AUC), f)\n"
   ]
  }
 ],
 "metadata": {
  "kernelspec": {
   "display_name": "Python 3",
   "language": "python",
   "name": "python3"
  },
  "language_info": {
   "codemirror_mode": {
    "name": "ipython",
    "version": 3
   },
   "file_extension": ".py",
   "mimetype": "text/x-python",
   "name": "python",
   "nbconvert_exporter": "python",
   "pygments_lexer": "ipython3",
   "version": "3.6.3"
  },
  "latex_envs": {
   "LaTeX_envs_menu_present": true,
   "autoclose": false,
   "autocomplete": true,
   "bibliofile": "biblio.bib",
   "cite_by": "apalike",
   "current_citInitial": 1,
   "eqLabelWithNumbers": true,
   "eqNumInitial": 1,
   "hotkeys": {
    "equation": "Ctrl-E",
    "itemize": "Ctrl-I"
   },
   "labels_anchors": false,
   "latex_user_defs": false,
   "report_style_numbering": false,
   "user_envs_cfg": false
  },
  "nbTranslate": {
   "displayLangs": [
    "*"
   ],
   "hotkey": "alt-t",
   "langInMainMenu": true,
   "sourceLang": "en",
   "targetLang": "fr",
   "useGoogleTranslate": true
  },
  "toc": {
   "base_numbering": 1,
   "nav_menu": {},
   "number_sections": true,
   "sideBar": true,
   "skip_h1_title": false,
   "title_cell": "Table of Contents",
   "title_sidebar": "Contents",
   "toc_cell": false,
   "toc_position": {},
   "toc_section_display": true,
   "toc_window_display": false
  },
  "varInspector": {
   "cols": {
    "lenName": 16,
    "lenType": 16,
    "lenVar": 40
   },
   "kernels_config": {
    "python": {
     "delete_cmd_postfix": "",
     "delete_cmd_prefix": "del ",
     "library": "var_list.py",
     "varRefreshCmd": "print(var_dic_list())"
    },
    "r": {
     "delete_cmd_postfix": ") ",
     "delete_cmd_prefix": "rm(",
     "library": "var_list.r",
     "varRefreshCmd": "cat(var_dic_list()) "
    }
   },
   "types_to_exclude": [
    "module",
    "function",
    "builtin_function_or_method",
    "instance",
    "_Feature"
   ],
   "window_display": false
  }
 },
 "nbformat": 4,
 "nbformat_minor": 2
}
